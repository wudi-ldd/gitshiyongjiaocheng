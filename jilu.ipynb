{
 "cells": [
  {
   "attachments": {},
   "cell_type": "markdown",
   "metadata": {},
   "source": [
    "#### 1.输入自己的用户名和邮箱\n",
    "git config --global user.name \"Your Name\"\n",
    "git config --global user.email \"your_email@example.com\"\n",
    "\n",
    "### 2.查看当前远程库信息\n",
    "git remote -v\n",
    "\n",
    "### 3.删除某个远程库\n",
    "git remote move Name\n",
    "\n",
    "### 4.如果无法推送，那就将原来存储库里的文件存在本地，之后全部删除，然后再放回去，创建新的分支推送。\n"
   ]
  },
  {
   "cell_type": "code",
   "execution_count": null,
   "metadata": {},
   "outputs": [],
   "source": []
  }
 ],
 "metadata": {
  "language_info": {
   "name": "python"
  },
  "orig_nbformat": 4
 },
 "nbformat": 4,
 "nbformat_minor": 2
}
